{
 "cells": [
  {
   "cell_type": "code",
   "execution_count": 2,
   "metadata": {
    "collapsed": false
   },
   "outputs": [
    {
     "name": "stdout",
     "output_type": "stream",
     "text": [
      "5921\n"
     ]
    }
   ],
   "source": [
    "import os\n",
    "import re\n",
    "\n",
    "f = open('singa.html', 'r') #f = open('mig.html', 'r') \n",
    "\n",
    "\n",
    "numbers = re.compile(r\"[-0-9]*\\.[0-9]*,[-0-9]*\\.[0-9]*\")\n",
    "# category = re.compile(r\"]\\\\n,\\[\\[\\\\\\\"(.*?)\\\\\\\"]\\\\n\") #will get \"Volontaire Singa\"\n",
    "\n",
    "combi = re.compile(r\"([-0-9]*\\.[0-9]*),([-0-9]*\\.[0-9]*)]\\\\n,.*?]\\\\n,\\[\\[\\\\\\\"(.*?)\\\\\\\"]\\\\n\")\n",
    "\n",
    "txt = f.read()\n",
    "\n",
    "resNum = re.findall(numbers, txt)\n",
    "resComb = re.findall(combi, txt)\n",
    "\n",
    "print(len(resComb))\n",
    "\n",
    "\n",
    "write_file = open(\"csv.csv\", \"w\")\n",
    "\n",
    "for line in resComb:\n",
    "\tlineToWrite = line[0] + \", \" + line[1] + \", \" + line[2]+\"\\n\"\n",
    "\twrite_file.write(lineToWrite) # python will convert \\n to os.linesep\n",
    "\n",
    "\t#print(float(line[1]) + \", \" + float(line[2]) + \", \" + line[3])\n",
    "\n",
    "write_file.close()"
   ]
  },
  {
   "cell_type": "code",
   "execution_count": null,
   "metadata": {
    "collapsed": true
   },
   "outputs": [],
   "source": []
  }
 ],
 "metadata": {
  "anaconda-cloud": {},
  "kernelspec": {
   "display_name": "Python [default]",
   "language": "python",
   "name": "python3"
  },
  "language_info": {
   "codemirror_mode": {
    "name": "ipython",
    "version": 3
   },
   "file_extension": ".py",
   "mimetype": "text/x-python",
   "name": "python",
   "nbconvert_exporter": "python",
   "pygments_lexer": "ipython3",
   "version": "3.5.2"
  }
 },
 "nbformat": 4,
 "nbformat_minor": 1
}
